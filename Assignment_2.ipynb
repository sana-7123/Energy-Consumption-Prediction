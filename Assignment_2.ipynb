{
 "cells": [
  {
   "cell_type": "code",
   "execution_count": 1,
   "id": "9dadb26c-bf63-4910-9d1c-30209099559e",
   "metadata": {},
   "outputs": [],
   "source": [
    "import pandas as pd\n",
    "from sklearn.preprocessing import StandardScaler, LabelEncoder\n",
    "\n",
    "# Load the dataset\n",
    "data = pd.read_csv(r\"C:\\Users\\sanab\\Downloads\\assignments\\assignments\\assignment2\\load_data.csv\")\n",
    "\n",
    "# Convert 'Date_Time' to datetime with the correct format\n",
    "data['Date_Time'] = pd.to_datetime(data['Date_Time'], format=\"%d-%m-%Y %H:%M\")\n",
    "\n",
    "scaler = StandardScaler()\n",
    "data[['Usage_kWh', 'Lagging_Current_Reactive.Power_kVarh', 'Leading_Current_Reactive_Power_kVarh', 'CO2(tCO2)']] = scaler.fit_transform(data[['Usage_kWh', 'Lagging_Current_Reactive.Power_kVarh', 'Leading_Current_Reactive_Power_kVarh', 'CO2(tCO2)']])\n",
    "encoder = LabelEncoder()\n",
    "data['Load_Type'] = encoder.fit_transform(data['Load_Type'])\n"
   ]
  },
  {
   "cell_type": "code",
   "execution_count": 2,
   "id": "4f7117cf-4ce1-42cb-83e4-1b2ee5180c3a",
   "metadata": {},
   "outputs": [],
   "source": [
    "# Create lagged features\n",
    "data['Usage_kWh_Lag1'] = data['Usage_kWh'].shift(1)\n",
    "data.dropna(inplace=True) # Drop the first row due to lag\n"
   ]
  },
  {
   "cell_type": "code",
   "execution_count": 3,
   "id": "968d482f-1b03-4662-b250-76274a8cc572",
   "metadata": {},
   "outputs": [],
   "source": [
    "from sklearn.model_selection import train_test_split\n",
    "from sklearn.ensemble import RandomForestClassifier\n",
    "from sklearn.metrics import classification_report, confusion_matrix\n",
    "\n",
    "# Split the data\n",
    "X = data.drop(['Date_Time', 'Load_Type'], axis=1)\n",
    "y = data['Load_Type']\n",
    "X_train, X_test, y_train, y_test = train_test_split(X, y, test_size=0.2, random_state=42)\n",
    "\n",
    "# Train the model\n",
    "clf = RandomForestClassifier(n_estimators=100, random_state=42)\n",
    "clf.fit(X_train, y_train)\n",
    "\n",
    "# Make predictions\n",
    "y_pred = clf.predict(X_test)\n"
   ]
  },
  {
   "cell_type": "code",
   "execution_count": 4,
   "id": "58c54bf7-59c7-46e4-a596-5fca6f5f1b17",
   "metadata": {},
   "outputs": [
    {
     "name": "stdout",
     "output_type": "stream",
     "text": [
      "[[2731   18   81]\n",
      " [  25  933  223]\n",
      " [  91  262 1211]]\n",
      "              precision    recall  f1-score   support\n",
      "\n",
      "           0       0.96      0.97      0.96      2830\n",
      "           1       0.77      0.79      0.78      1181\n",
      "           2       0.80      0.77      0.79      1564\n",
      "\n",
      "    accuracy                           0.87      5575\n",
      "   macro avg       0.84      0.84      0.84      5575\n",
      "weighted avg       0.87      0.87      0.87      5575\n",
      "\n"
     ]
    }
   ],
   "source": [
    "# Model evaluation\n",
    "print(confusion_matrix(y_test, y_pred))\n",
    "print(classification_report(y_test, y_pred))\n"
   ]
  },
  {
   "cell_type": "code",
   "execution_count": null,
   "id": "2249a5b9-6b48-40d6-9df4-29dc9e3c4de9",
   "metadata": {},
   "outputs": [],
   "source": []
  }
 ],
 "metadata": {
  "kernelspec": {
   "display_name": "Python 3 (ipykernel)",
   "language": "python",
   "name": "python3"
  },
  "language_info": {
   "codemirror_mode": {
    "name": "ipython",
    "version": 3
   },
   "file_extension": ".py",
   "mimetype": "text/x-python",
   "name": "python",
   "nbconvert_exporter": "python",
   "pygments_lexer": "ipython3",
   "version": "3.12.0"
  }
 },
 "nbformat": 4,
 "nbformat_minor": 5
}
